{
 "cells": [
  {
   "cell_type": "markdown",
   "metadata": {},
   "source": [
    "# **Preparación de los datos**\n"
   ]
  },
  {
   "cell_type": "code",
   "execution_count": 8,
   "metadata": {},
   "outputs": [],
   "source": [
    "#Librerias que vamos a usar a lo largo del EDA\n",
    "import numpy as np\n",
    "import datetime as dt\n",
    "import matplotlib.pyplot as plt\n",
    "import pandas as pd\n",
    "import seaborn as sns\n",
    "from collections import Counter\n",
    "from scipy.stats import chi2_contingency, pearsonr, ttest_ind, f_oneway\n",
    "import sys\n",
    "sys.path.insert(0,\"../utils\")\n",
    "import utils as funciones\n"
   ]
  },
  {
   "cell_type": "markdown",
   "metadata": {},
   "source": [
    "# **Carga de la base de datos y limpieza**"
   ]
  },
  {
   "cell_type": "code",
   "execution_count": 9,
   "metadata": {},
   "outputs": [],
   "source": [
    "#Llamamos al csv y creamos el df de perfil turistico\n",
    "df_perfil_turistico = pd.read_csv(\"./data/Perfil_turístico.csv\", sep=\";\", encoding=\"latin1\")\n",
    "#LIMPIEZA DE LOS DATOS\n",
    "# Sexo\n",
    "df_perfil_turistico[\"Sexo\"] = df_perfil_turistico[\"Sexo\"].replace({1: \"Hombre\", 6: \"Mujer\"})\n",
    "#Nivel educativo\n",
    "df_perfil_turistico[\"Nivel_educativo\"] = df_perfil_turistico[\"Nivel_educativo\"].replace({1:\"Sin estudios\", 2:\"Estudios primarios\", 3:\"Estudios secundarios\", 4:\"Estudios superiores\"})\n",
    "#Situacion laboral\n",
    "df_perfil_turistico[\"Situacion_laboral\"] = df_perfil_turistico[\"Situacion_laboral\"].replace({ 1:\"Asalariado\", 2:\"Autonomo\", 3:\"Empresario_peque\", 4:\"Empresario_grande\",\n",
    "5:\"Desempleado\", 6:\"Estudiante\", 7:\"Jubilado\", 8:\"Incapacitado\", 9:\"Militar\", 10:\"Dependients\", 11:\"Otros\"})\n",
    "#Ingresos\n",
    "df_perfil_turistico[\"Ingresos\"] = df_perfil_turistico[\"Ingresos\"].replace({1:\"Menos 25.000\", 2:\"25.000-49.999\",3:\"50.000-74.999\", 4:\"+75.000\"})\n",
    "#Tipo de alojamiento\n",
    "df_perfil_turistico[\"Tipo_alojamiento\"] = df_perfil_turistico[\"Tipo_alojamiento\"].replace({1:\"Hotel 1-2-3*\", 2:\"Hotel 4*\",3:\"Hotel 5*\", 4:\"Apartamento/Villa\", 5:\"Vivienda/airbnb\", 6:\"Alojamiento privado\", 7:\"Alojamiento rural\"})\n",
    "#Repetiría\n",
    "df_perfil_turistico[\"Repetiria\"] = df_perfil_turistico[\"Repetiria\"].replace({1:\"(1)\", 2:\"(2)\",3:\"(3)\", 4:\"(4)\", 5:\"(5)\", 6:\"(6)\", 7:\"(7)\",8:\"(8)\",9:\"(9)\",10:\"(10)\"})\n",
    "#Calificacion\n",
    "df_perfil_turistico[\"Calificacion\"] = df_perfil_turistico[\"Calificacion\"].replace({1:\"Mucho peor de lo esperado\", 2:\"Peor de lo esperado\",3:\"A la altura de las expectativas\", 4:\"Mejor de lo esperado\", 5:\"Mucho mejor de lo esperado\"})\n",
    "#Creamos una columna con el tipo de acompañante para tener en la misma columna el \"modo_viaje\" y asi estudiarla mejor\n",
    "columnas_tipo_acompañante = [\"Viaja_solo\", \"Viaja_pareja\", \"Viaja_hijo\", \"Viaja_amigos\", \"Viaja_otros\"]\n",
    "df_perfil_turistico[\"Modo_viaje\"] = df_perfil_turistico.apply(lambda row: ', '.join(col for col in columnas_tipo_acompañante if row[col] == \"Si\"), axis=1)\n",
    "df_perfil_turistico = df_perfil_turistico.drop(columns=[\"Viaja_pareja\",\"Viaja_hijo\",\"Viaja_otros\",\"Viaja_solo\",\"Viaja_amigos\"])\n",
    "#Unificación columna de gastos\n",
    "df_perfil_turistico[\"Gastos_totales\"] = (df_perfil_turistico[\"Coste_vuelos\"] +df_perfil_turistico[\"Coste_alojamiento\"] +df_perfil_turistico[\"Gastos\"])\n",
    "# Convertir algunas columnas a float\n",
    "df_perfil_turistico[\"Edad\"] = df_perfil_turistico[\"Edad\"].astype(float)\n",
    "#ESTUDIO DE LOS DATOS\n",
    "variables_categoricas=[\"Sexo\",\"Nacionalidad\",\"Tipo_alojamiento\",\"Calificacion\",\"Repetiria\",\"Nivel_educativo\",\"Situacion_laboral\",\"Ingresos\", \"Modo_viaje\"]\n",
    "#Datos prepandemia\n",
    "df_2019 = df_perfil_turistico[df_perfil_turistico['Año'] == 2019]\n",
    "#Datos postpandemia\n",
    "df_2022 = df_perfil_turistico[df_perfil_turistico['Año'] == 2022]"
   ]
  },
  {
   "cell_type": "markdown",
   "metadata": {},
   "source": [
    "# **Análisis Multivariante**"
   ]
  },
  {
   "cell_type": "code",
   "execution_count": 10,
   "metadata": {},
   "outputs": [
    {
     "ename": "AttributeError",
     "evalue": "module 'utils' has no attribute 'plot_scatter'",
     "output_type": "error",
     "traceback": [
      "\u001b[1;31m---------------------------------------------------------------------------\u001b[0m",
      "\u001b[1;31mAttributeError\u001b[0m                            Traceback (most recent call last)",
      "Cell \u001b[1;32mIn[10], line 1\u001b[0m\n\u001b[1;32m----> 1\u001b[0m \u001b[43mfunciones\u001b[49m\u001b[38;5;241;43m.\u001b[39;49m\u001b[43mplot_scatter\u001b[49m(df_2022, Edad, Nacionalidad, Noches)\n",
      "\u001b[1;31mAttributeError\u001b[0m: module 'utils' has no attribute 'plot_scatter'"
     ]
    }
   ],
   "source": [
    "funciones.plot_scatter(df_2022, Edad, Nacionalidad, Noches)"
   ]
  }
 ],
 "metadata": {
  "kernelspec": {
   "display_name": "Python 3",
   "language": "python",
   "name": "python3"
  },
  "language_info": {
   "codemirror_mode": {
    "name": "ipython",
    "version": 3
   },
   "file_extension": ".py",
   "mimetype": "text/x-python",
   "name": "python",
   "nbconvert_exporter": "python",
   "pygments_lexer": "ipython3",
   "version": "3.11.3"
  }
 },
 "nbformat": 4,
 "nbformat_minor": 4
}
