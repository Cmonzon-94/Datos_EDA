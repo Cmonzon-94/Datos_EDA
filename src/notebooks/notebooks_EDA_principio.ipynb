{
 "cells": [
  {
   "cell_type": "markdown",
   "metadata": {},
   "source": [
    "# Análisis del perfil turístico que visitó Gran Canaria 2022"
   ]
  },
  {
   "cell_type": "markdown",
   "metadata": {},
   "source": [
    "![Portada](https://www.holaislascanarias.com/sites/default/files/block-images/2021-06/Maspalomas.jpg)"
   ]
  },
  {
   "cell_type": "markdown",
   "metadata": {},
   "source": [
    "El objetivo de este análisis es comprender las características demográficas, comportamientos, preferencias y patrones de los turistas en periodo de postpandemia, utilizando como base la encuesta de gasto turístico realizada por el Instituto Nacional de estadísticas (ISTAC).\n",
    "\n",
    "A lo largo del análisis se emplean técnicas de exploración de datos (EDA) y herramientas de visualización desarrolladas en Python."
   ]
  },
  {
   "cell_type": "markdown",
   "metadata": {},
   "source": [
    "# **1.Preparación de los datos**\n"
   ]
  },
  {
   "cell_type": "markdown",
   "metadata": {},
   "source": [
    "**Imports**\n",
    "Se importan las librerias, módulos y funciones que vamos a usar a lo largo del análisis."
   ]
  },
  {
   "cell_type": "code",
   "execution_count": 60,
   "metadata": {},
   "outputs": [],
   "source": [
    "#Librerias que vamos a usar a lo largo del EDA\n",
    "import numpy as np\n",
    "import matplotlib.pyplot as plt\n",
    "import pandas as pd\n",
    "import seaborn as sns\n",
    "from scipy.stats import stats, f_oneway, chi2_contingency\n",
    "from sklearn.decomposition import PCA\n",
    "from sklearn.preprocessing import StandardScaler\n",
    "from sklearn.cluster import KMeans\n",
    "import sys\n",
    "sys.path.append('utils')\n",
    "import utils as funciones"
   ]
  },
  {
   "cell_type": "markdown",
   "metadata": {},
   "source": [
    "# **1.2 Carga de la base de datos y visualización inicial**"
   ]
  },
  {
   "cell_type": "markdown",
   "metadata": {},
   "source": [
    "Cargamos el dataset con el que vamos a trabajar"
   ]
  },
  {
   "cell_type": "code",
   "execution_count": 61,
   "metadata": {},
   "outputs": [],
   "source": [
    "#Llamamos al csv y creamos el df de perfil turistico\n",
    "df_perfil_turistico = pd.read_csv(\"./data/Perfil_turístico.csv\", sep=\";\", encoding=\"latin1\")"
   ]
  },
  {
   "cell_type": "code",
   "execution_count": 62,
   "metadata": {},
   "outputs": [
    {
     "data": {
      "text/html": [
       "<div>\n",
       "<style scoped>\n",
       "    .dataframe tbody tr th:only-of-type {\n",
       "        vertical-align: middle;\n",
       "    }\n",
       "\n",
       "    .dataframe tbody tr th {\n",
       "        vertical-align: top;\n",
       "    }\n",
       "\n",
       "    .dataframe thead th {\n",
       "        text-align: right;\n",
       "    }\n",
       "</style>\n",
       "<table border=\"1\" class=\"dataframe\">\n",
       "  <thead>\n",
       "    <tr style=\"text-align: right;\">\n",
       "      <th></th>\n",
       "      <th>Sexo</th>\n",
       "      <th>Edad</th>\n",
       "      <th>Nacionalidad</th>\n",
       "      <th>Viaja_solo</th>\n",
       "      <th>Viaja_pareja</th>\n",
       "      <th>Viaja_hijo</th>\n",
       "      <th>Viaja_amigos</th>\n",
       "      <th>Viaja_otros</th>\n",
       "      <th>Noches</th>\n",
       "      <th>Tipo_alojamiento</th>\n",
       "      <th>...</th>\n",
       "      <th>Visitas_totales_Islas</th>\n",
       "      <th>Visitas_total_GC</th>\n",
       "      <th>Calificacion</th>\n",
       "      <th>Repetiria</th>\n",
       "      <th>Nivel_educativo</th>\n",
       "      <th>Situacion_laboral</th>\n",
       "      <th>Ingresos</th>\n",
       "      <th>Personas_hogar</th>\n",
       "      <th>Cuatrimestre</th>\n",
       "      <th>Año</th>\n",
       "    </tr>\n",
       "  </thead>\n",
       "  <tbody>\n",
       "    <tr>\n",
       "      <th>0</th>\n",
       "      <td>6</td>\n",
       "      <td>42</td>\n",
       "      <td>España</td>\n",
       "      <td>No</td>\n",
       "      <td>No</td>\n",
       "      <td>No</td>\n",
       "      <td>No</td>\n",
       "      <td>Si</td>\n",
       "      <td>5</td>\n",
       "      <td>3</td>\n",
       "      <td>...</td>\n",
       "      <td>2</td>\n",
       "      <td>2</td>\n",
       "      <td>4</td>\n",
       "      <td>10</td>\n",
       "      <td>4</td>\n",
       "      <td>1</td>\n",
       "      <td>1</td>\n",
       "      <td>1</td>\n",
       "      <td>Q1</td>\n",
       "      <td>2019</td>\n",
       "    </tr>\n",
       "    <tr>\n",
       "      <th>1</th>\n",
       "      <td>1</td>\n",
       "      <td>27</td>\n",
       "      <td>España</td>\n",
       "      <td>No</td>\n",
       "      <td>Si</td>\n",
       "      <td>No</td>\n",
       "      <td>No</td>\n",
       "      <td>No</td>\n",
       "      <td>4</td>\n",
       "      <td>4</td>\n",
       "      <td>...</td>\n",
       "      <td>10</td>\n",
       "      <td>3</td>\n",
       "      <td>3</td>\n",
       "      <td>10</td>\n",
       "      <td>4</td>\n",
       "      <td>1</td>\n",
       "      <td>2</td>\n",
       "      <td>2</td>\n",
       "      <td>Q1</td>\n",
       "      <td>2019</td>\n",
       "    </tr>\n",
       "    <tr>\n",
       "      <th>2</th>\n",
       "      <td>6</td>\n",
       "      <td>63</td>\n",
       "      <td>Italia</td>\n",
       "      <td>Si</td>\n",
       "      <td>No</td>\n",
       "      <td>No</td>\n",
       "      <td>No</td>\n",
       "      <td>No</td>\n",
       "      <td>6</td>\n",
       "      <td>3</td>\n",
       "      <td>...</td>\n",
       "      <td>1</td>\n",
       "      <td>1</td>\n",
       "      <td>1</td>\n",
       "      <td>1</td>\n",
       "      <td>4</td>\n",
       "      <td>2</td>\n",
       "      <td>1</td>\n",
       "      <td>1</td>\n",
       "      <td>Q1</td>\n",
       "      <td>2019</td>\n",
       "    </tr>\n",
       "    <tr>\n",
       "      <th>3</th>\n",
       "      <td>6</td>\n",
       "      <td>43</td>\n",
       "      <td>Reino Unido</td>\n",
       "      <td>No</td>\n",
       "      <td>No</td>\n",
       "      <td>Si</td>\n",
       "      <td>No</td>\n",
       "      <td>No</td>\n",
       "      <td>6</td>\n",
       "      <td>4</td>\n",
       "      <td>...</td>\n",
       "      <td>1</td>\n",
       "      <td>1</td>\n",
       "      <td>4</td>\n",
       "      <td>9</td>\n",
       "      <td>4</td>\n",
       "      <td>5</td>\n",
       "      <td>3</td>\n",
       "      <td>4</td>\n",
       "      <td>Q1</td>\n",
       "      <td>2019</td>\n",
       "    </tr>\n",
       "    <tr>\n",
       "      <th>4</th>\n",
       "      <td>1</td>\n",
       "      <td>43</td>\n",
       "      <td>España</td>\n",
       "      <td>No</td>\n",
       "      <td>No</td>\n",
       "      <td>No</td>\n",
       "      <td>Si</td>\n",
       "      <td>No</td>\n",
       "      <td>4</td>\n",
       "      <td>4</td>\n",
       "      <td>...</td>\n",
       "      <td>3</td>\n",
       "      <td>2</td>\n",
       "      <td>4</td>\n",
       "      <td>10</td>\n",
       "      <td>4</td>\n",
       "      <td>1</td>\n",
       "      <td>2</td>\n",
       "      <td>1</td>\n",
       "      <td>Q1</td>\n",
       "      <td>2019</td>\n",
       "    </tr>\n",
       "  </tbody>\n",
       "</table>\n",
       "<p>5 rows × 24 columns</p>\n",
       "</div>"
      ],
      "text/plain": [
       "   Sexo  Edad Nacionalidad Viaja_solo Viaja_pareja Viaja_hijo Viaja_amigos  \\\n",
       "0     6    42       España         No           No         No           No   \n",
       "1     1    27       España         No           Si         No           No   \n",
       "2     6    63       Italia         Si           No         No           No   \n",
       "3     6    43  Reino Unido         No           No         Si           No   \n",
       "4     1    43       España         No           No         No           Si   \n",
       "\n",
       "  Viaja_otros  Noches  Tipo_alojamiento  ...  Visitas_totales_Islas  \\\n",
       "0          Si       5                 3  ...                      2   \n",
       "1          No       4                 4  ...                     10   \n",
       "2          No       6                 3  ...                      1   \n",
       "3          No       6                 4  ...                      1   \n",
       "4          No       4                 4  ...                      3   \n",
       "\n",
       "   Visitas_total_GC  Calificacion  Repetiria  Nivel_educativo  \\\n",
       "0                 2             4         10                4   \n",
       "1                 3             3         10                4   \n",
       "2                 1             1          1                4   \n",
       "3                 1             4          9                4   \n",
       "4                 2             4         10                4   \n",
       "\n",
       "   Situacion_laboral  Ingresos  Personas_hogar  Cuatrimestre   Año  \n",
       "0                  1         1               1            Q1  2019  \n",
       "1                  1         2               2            Q1  2019  \n",
       "2                  2         1               1            Q1  2019  \n",
       "3                  5         3               4            Q1  2019  \n",
       "4                  1         2               1            Q1  2019  \n",
       "\n",
       "[5 rows x 24 columns]"
      ]
     },
     "execution_count": 62,
     "metadata": {},
     "output_type": "execute_result"
    }
   ],
   "source": [
    "#Observamos sus primeras columnas\n",
    "df_perfil_turistico.head()"
   ]
  },
  {
   "cell_type": "markdown",
   "metadata": {},
   "source": [
    "# **1.3 Limpieza de los datos**"
   ]
  },
  {
   "cell_type": "markdown",
   "metadata": {},
   "source": [
    "Hacemos el tratamiento de limpieza de los datos que sea necesario para su posterior uso."
   ]
  },
  {
   "cell_type": "code",
   "execution_count": 63,
   "metadata": {},
   "outputs": [],
   "source": [
    "#Limpieza de variables categóticas\n",
    "# Se sabe que en la variable sexo 1=Hombre y 6=Mujer por lo que vamos a hacer la transformacion\n",
    "df_perfil_turistico[\"Sexo\"] = df_perfil_turistico[\"Sexo\"].replace({1: \"Hombre\", 6: \"Mujer\"})"
   ]
  },
  {
   "cell_type": "code",
   "execution_count": 64,
   "metadata": {},
   "outputs": [],
   "source": [
    "#Nivel educativo\n",
    "df_perfil_turistico[\"Nivel_educativo\"] = df_perfil_turistico[\"Nivel_educativo\"].replace({1:\"Sin estudios\", 2:\"Estudios primarios\", 3:\"Estudios secundarios\", 4:\"Estudios superiores\"})"
   ]
  },
  {
   "cell_type": "code",
   "execution_count": 65,
   "metadata": {},
   "outputs": [],
   "source": [
    "#Situacion laboral\n",
    "df_perfil_turistico[\"Situacion_laboral\"] = df_perfil_turistico[\"Situacion_laboral\"].replace({ 1:\"Asalariado\", 2:\"Autonomo\", 3:\"Empresario_peque\", 4:\"Empresario_grande\",\n",
    "5:\"Desempleado\", 6:\"Estudiante\", 7:\"Jubilado\", 8:\"Incapacitado\", 9:\"Militar\", 10:\"Dependients\", 11:\"Otros\"})\n"
   ]
  },
  {
   "cell_type": "code",
   "execution_count": 66,
   "metadata": {},
   "outputs": [],
   "source": [
    "#Ingresos\n",
    "df_perfil_turistico[\"Ingresos\"] = df_perfil_turistico[\"Ingresos\"].replace({1:\"Menos 25.000\", 2:\"25.000-49.999\",3:\"50.000-74.999\", 4:\"+75.000\"})"
   ]
  },
  {
   "cell_type": "code",
   "execution_count": 67,
   "metadata": {},
   "outputs": [],
   "source": [
    "#Tipo de alojamiento\n",
    "df_perfil_turistico[\"Tipo_alojamiento\"] = df_perfil_turistico[\"Tipo_alojamiento\"].replace({1:\"Hotel 1-2-3*\", 2:\"Hotel 4*\",3:\"Hotel 5*\", 4:\"Apartamento/Villa\", 5:\"Vivienda/airbnb\", 6:\"Alojamiento privado\", 7:\"Alojamiento rural\"})"
   ]
  },
  {
   "cell_type": "code",
   "execution_count": 68,
   "metadata": {},
   "outputs": [],
   "source": [
    "#Repetiría\n",
    "df_perfil_turistico[\"Repetiria\"] = df_perfil_turistico[\"Repetiria\"].replace({1:\"(1)\", 2:\"(2)\",3:\"(3)\", 4:\"(4)\", 5:\"(5)\", 6:\"(6)\", 7:\"(7)\",8:\"(8)\",9:\"(9)\",10:\"(10)\"})"
   ]
  },
  {
   "cell_type": "code",
   "execution_count": 69,
   "metadata": {},
   "outputs": [],
   "source": [
    "#Calificacion\n",
    "df_perfil_turistico[\"Calificacion\"] = df_perfil_turistico[\"Calificacion\"].replace({1:\"Mucho peor de lo esperado\", 2:\"Peor de lo esperado\",3:\"A la altura de las expectativas\", 4:\"Mejor de lo esperado\", 5:\"Mucho mejor de lo esperado\"})"
   ]
  },
  {
   "cell_type": "code",
   "execution_count": 70,
   "metadata": {},
   "outputs": [],
   "source": [
    "#Creamos una columna con el tipo de aconmpañante\n",
    "columnas_tipo_acompañante = [\"Viaja_solo\", \"Viaja_pareja\", \"Viaja_hijo\", \"Viaja_amigos\", \"Viaja_otros\"]\n",
    "\n",
    "# Crear la columna \"Resultado\" solo basándose en esas columnas\n",
    "df_perfil_turistico[\"Modo_viaje\"] = df_perfil_turistico.apply(lambda row: ', '.join(col for col in columnas_tipo_acompañante if row[col] == \"Si\"), axis=1)\n"
   ]
  },
  {
   "cell_type": "code",
   "execution_count": 71,
   "metadata": {},
   "outputs": [],
   "source": [
    "#Eliminamos la columna Tipo de viaje\n",
    "df_perfil_turistico = df_perfil_turistico.drop(columns=[\"Viaja_pareja\",\"Viaja_hijo\",\"Viaja_otros\",\"Viaja_solo\",\"Viaja_amigos\"])"
   ]
  },
  {
   "cell_type": "code",
   "execution_count": 72,
   "metadata": {},
   "outputs": [
    {
     "name": "stdout",
     "output_type": "stream",
     "text": [
      "<class 'pandas.core.frame.DataFrame'>\n",
      "RangeIndex: 12295 entries, 0 to 12294\n",
      "Data columns (total 20 columns):\n",
      " #   Column                   Non-Null Count  Dtype  \n",
      "---  ------                   --------------  -----  \n",
      " 0   Sexo                     12295 non-null  object \n",
      " 1   Edad                     12295 non-null  int64  \n",
      " 2   Nacionalidad             12295 non-null  object \n",
      " 3   Noches                   12295 non-null  int64  \n",
      " 4   Tipo_alojamiento         12295 non-null  object \n",
      " 5   Coste_vuelos             12295 non-null  float64\n",
      " 6   Coste_alojamiento        12295 non-null  float64\n",
      " 7   Gastos                   12295 non-null  float64\n",
      " 8   Horas_fuera_alojamiento  12295 non-null  int64  \n",
      " 9   Visitas_totales_Islas    12295 non-null  int64  \n",
      " 10  Visitas_total_GC         12295 non-null  int64  \n",
      " 11  Calificacion             12295 non-null  object \n",
      " 12  Repetiria                12295 non-null  object \n",
      " 13  Nivel_educativo          12295 non-null  object \n",
      " 14  Situacion_laboral        12295 non-null  object \n",
      " 15  Ingresos                 12295 non-null  object \n",
      " 16  Personas_hogar           12295 non-null  int64  \n",
      " 17  Cuatrimestre             12295 non-null  object \n",
      " 18  Año                      12295 non-null  int64  \n",
      " 19  Modo_viaje               12295 non-null  object \n",
      "dtypes: float64(3), int64(7), object(10)\n",
      "memory usage: 1.9+ MB\n"
     ]
    }
   ],
   "source": [
    "df_perfil_turistico.info()"
   ]
  },
  {
   "cell_type": "code",
   "execution_count": 73,
   "metadata": {},
   "outputs": [
    {
     "name": "stdout",
     "output_type": "stream",
     "text": [
      "<class 'pandas.core.frame.DataFrame'>\n",
      "RangeIndex: 12295 entries, 0 to 12294\n",
      "Data columns (total 20 columns):\n",
      " #   Column                   Non-Null Count  Dtype  \n",
      "---  ------                   --------------  -----  \n",
      " 0   Sexo                     12295 non-null  object \n",
      " 1   Edad                     12295 non-null  float64\n",
      " 2   Nacionalidad             12295 non-null  object \n",
      " 3   Noches                   12295 non-null  float64\n",
      " 4   Tipo_alojamiento         12295 non-null  object \n",
      " 5   Coste_vuelos             12295 non-null  float64\n",
      " 6   Coste_alojamiento        12295 non-null  float64\n",
      " 7   Gastos                   12295 non-null  float64\n",
      " 8   Horas_fuera_alojamiento  12295 non-null  int64  \n",
      " 9   Visitas_totales_Islas    12295 non-null  int64  \n",
      " 10  Visitas_total_GC         12295 non-null  int64  \n",
      " 11  Calificacion             12295 non-null  object \n",
      " 12  Repetiria                12295 non-null  object \n",
      " 13  Nivel_educativo          12295 non-null  object \n",
      " 14  Situacion_laboral        12295 non-null  object \n",
      " 15  Ingresos                 12295 non-null  object \n",
      " 16  Personas_hogar           12295 non-null  float64\n",
      " 17  Cuatrimestre             12295 non-null  object \n",
      " 18  Año                      12295 non-null  int64  \n",
      " 19  Modo_viaje               12295 non-null  object \n",
      "dtypes: float64(6), int64(4), object(10)\n",
      "memory usage: 1.9+ MB\n"
     ]
    }
   ],
   "source": [
    "# Convertir algunas columnas a float\n",
    "df_perfil_turistico['Edad'] = df_perfil_turistico['Edad'].astype(float)\n",
    "df_perfil_turistico['Noches'] = df_perfil_turistico['Noches'].astype(float)\n",
    "df_perfil_turistico['Personas_hogar'] = df_perfil_turistico['Personas_hogar'].astype(float)\n",
    "# Verificar el cambio\n",
    "df_perfil_turistico.info()"
   ]
  },
  {
   "cell_type": "code",
   "execution_count": 74,
   "metadata": {},
   "outputs": [
    {
     "data": {
      "text/plain": [
       "0"
      ]
     },
     "execution_count": 74,
     "metadata": {},
     "output_type": "execute_result"
    }
   ],
   "source": [
    "#¿Valores duplicados?\n",
    "df_perfil_turistico.duplicated(keep=False)\n",
    "len(df_perfil_turistico[df_perfil_turistico.duplicated(keep = False)]) # keep = \"first\", keep = False"
   ]
  },
  {
   "cell_type": "code",
   "execution_count": 75,
   "metadata": {},
   "outputs": [
    {
     "data": {
      "text/plain": [
       "Sexo                       0\n",
       "Edad                       0\n",
       "Nacionalidad               0\n",
       "Noches                     0\n",
       "Tipo_alojamiento           0\n",
       "Coste_vuelos               0\n",
       "Coste_alojamiento          0\n",
       "Gastos                     0\n",
       "Horas_fuera_alojamiento    0\n",
       "Visitas_totales_Islas      0\n",
       "Visitas_total_GC           0\n",
       "Calificacion               0\n",
       "Repetiria                  0\n",
       "Nivel_educativo            0\n",
       "Situacion_laboral          0\n",
       "Ingresos                   0\n",
       "Personas_hogar             0\n",
       "Cuatrimestre               0\n",
       "Año                        0\n",
       "Modo_viaje                 0\n",
       "dtype: int64"
      ]
     },
     "execution_count": 75,
     "metadata": {},
     "output_type": "execute_result"
    }
   ],
   "source": [
    "#¿Valores nulos?\n",
    "df_perfil_turistico.isnull()\n",
    "df_perfil_turistico.isnull().sum()"
   ]
  },
  {
   "cell_type": "code",
   "execution_count": 76,
   "metadata": {},
   "outputs": [],
   "source": [
    "#¿Outliers?\n",
    "variables_numericas=[\"Edad\",\"Noches\",\"Coste_vuelos\",\"Coste_alojamiento\",\"Gastos\",\"Horas_fuera_alojamiento\",\"Visitas_totales_Islas\",\"Visitas_total_GC\",\"Personas_hogar\"]"
   ]
  },
  {
   "cell_type": "code",
   "execution_count": 77,
   "metadata": {},
   "outputs": [],
   "source": [
    "# Calcular límites inferior y superior\n",
    "outliers = {}\n",
    "for var in variables_numericas:\n",
    "    q1 = df_perfil_turistico[var].quantile(0.25)\n",
    "    q3 = df_perfil_turistico[var].quantile(0.75)\n",
    "    iqr = q3 - q1\n",
    "    lower_bound = q1 - 1.5 * iqr\n",
    "    upper_bound = q3 + 1.5 * iqr\n",
    "\n",
    "    # Identificar outliers\n",
    "    outliers[var] = df_perfil_turistico[(df_perfil_turistico[var] < lower_bound) | (df_perfil_turistico[var] > upper_bound)]\n",
    "\n",
    "    #print(f\"Outliers en {var}:\\n{outliers[var]}\")"
   ]
  },
  {
   "cell_type": "markdown",
   "metadata": {},
   "source": [
    "Reemplazar outliers con la mediana ya que mantiene la tendencia central del conjunto de datos si que los valores extremos sesgen los resultados\n"
   ]
  },
  {
   "cell_type": "code",
   "execution_count": 78,
   "metadata": {},
   "outputs": [],
   "source": [
    "# Reemplazar valores fuera del rango por la mediana\n",
    "for var in variables_numericas:\n",
    "    q1 = df_perfil_turistico[var].quantile(0.25)\n",
    "    q3 = df_perfil_turistico[var].quantile(0.75)\n",
    "    iqr = q3 - q1\n",
    "    lower_bound = q1 - 1.5 * iqr\n",
    "    upper_bound = q3 + 1.5 * iqr\n",
    "\n",
    "    median = df_perfil_turistico[var].median()\n",
    "    df_perfil_turistico[var] = df_perfil_turistico[var].apply(lambda x: median if (x < lower_bound or x > upper_bound) else x)"
   ]
  },
  {
   "cell_type": "code",
   "execution_count": 79,
   "metadata": {},
   "outputs": [
    {
     "data": {
      "text/plain": [
       "Index(['Sexo', 'Edad', 'Nacionalidad', 'Noches', 'Tipo_alojamiento',\n",
       "       'Coste_vuelos', 'Coste_alojamiento', 'Gastos',\n",
       "       'Horas_fuera_alojamiento', 'Visitas_totales_Islas', 'Visitas_total_GC',\n",
       "       'Calificacion', 'Repetiria', 'Nivel_educativo', 'Situacion_laboral',\n",
       "       'Ingresos', 'Personas_hogar', 'Cuatrimestre', 'Año', 'Modo_viaje'],\n",
       "      dtype='object')"
      ]
     },
     "execution_count": 79,
     "metadata": {},
     "output_type": "execute_result"
    }
   ],
   "source": [
    "#Vemos el total de columnas\n",
    "df_perfil_turistico.columns"
   ]
  },
  {
   "cell_type": "code",
   "execution_count": 80,
   "metadata": {},
   "outputs": [
    {
     "name": "stdout",
     "output_type": "stream",
     "text": [
      "<class 'pandas.core.frame.DataFrame'>\n",
      "RangeIndex: 12295 entries, 0 to 12294\n",
      "Data columns (total 20 columns):\n",
      " #   Column                   Non-Null Count  Dtype  \n",
      "---  ------                   --------------  -----  \n",
      " 0   Sexo                     12295 non-null  object \n",
      " 1   Edad                     12295 non-null  float64\n",
      " 2   Nacionalidad             12295 non-null  object \n",
      " 3   Noches                   12295 non-null  float64\n",
      " 4   Tipo_alojamiento         12295 non-null  object \n",
      " 5   Coste_vuelos             12295 non-null  float64\n",
      " 6   Coste_alojamiento        12295 non-null  float64\n",
      " 7   Gastos                   12295 non-null  float64\n",
      " 8   Horas_fuera_alojamiento  12295 non-null  float64\n",
      " 9   Visitas_totales_Islas    12295 non-null  float64\n",
      " 10  Visitas_total_GC         12295 non-null  float64\n",
      " 11  Calificacion             12295 non-null  object \n",
      " 12  Repetiria                12295 non-null  object \n",
      " 13  Nivel_educativo          12295 non-null  object \n",
      " 14  Situacion_laboral        12295 non-null  object \n",
      " 15  Ingresos                 12295 non-null  object \n",
      " 16  Personas_hogar           12295 non-null  float64\n",
      " 17  Cuatrimestre             12295 non-null  object \n",
      " 18  Año                      12295 non-null  int64  \n",
      " 19  Modo_viaje               12295 non-null  object \n",
      "dtypes: float64(9), int64(1), object(10)\n",
      "memory usage: 1.9+ MB\n"
     ]
    }
   ],
   "source": [
    "df_perfil_turistico.info()"
   ]
  },
  {
   "cell_type": "markdown",
   "metadata": {},
   "source": [
    "Los datos ya han sido limpiados y están listos para comenzar con el análisis.\n",
    "\n",
    "Comencemos por explorar la tipología de las variables, definiendo su cardinalidad para proceder con su posterior clasificación"
   ]
  },
  {
   "cell_type": "code",
   "execution_count": 81,
   "metadata": {},
   "outputs": [
    {
     "data": {
      "text/plain": [
       "Sexo                        0.02\n",
       "Edad                        0.58\n",
       "Nacionalidad                0.11\n",
       "Noches                      0.10\n",
       "Tipo_alojamiento            0.06\n",
       "Coste_vuelos               18.28\n",
       "Coste_alojamiento          24.14\n",
       "Gastos                     16.03\n",
       "Horas_fuera_alojamiento     0.16\n",
       "Visitas_totales_Islas       0.14\n",
       "Visitas_total_GC            0.10\n",
       "Calificacion                0.04\n",
       "Repetiria                   0.09\n",
       "Nivel_educativo             0.03\n",
       "Situacion_laboral           0.09\n",
       "Ingresos                    0.03\n",
       "Personas_hogar              0.03\n",
       "Cuatrimestre                0.03\n",
       "Año                         0.02\n",
       "Modo_viaje                  0.04\n",
       "dtype: float64"
      ]
     },
     "execution_count": 81,
     "metadata": {},
     "output_type": "execute_result"
    }
   ],
   "source": [
    "# Calculemos ahora su cardinalidad\n",
    "cardinalidad = round((df_perfil_turistico.nunique() /len (df_perfil_turistico))*100,2)\n",
    "cardinalidad\n"
   ]
  },
  {
   "cell_type": "code",
   "execution_count": 82,
   "metadata": {},
   "outputs": [
    {
     "data": {
      "text/html": [
       "<div>\n",
       "<style scoped>\n",
       "    .dataframe tbody tr th:only-of-type {\n",
       "        vertical-align: middle;\n",
       "    }\n",
       "\n",
       "    .dataframe tbody tr th {\n",
       "        vertical-align: top;\n",
       "    }\n",
       "\n",
       "    .dataframe thead th {\n",
       "        text-align: right;\n",
       "    }\n",
       "</style>\n",
       "<table border=\"1\" class=\"dataframe\">\n",
       "  <thead>\n",
       "    <tr style=\"text-align: right;\">\n",
       "      <th></th>\n",
       "      <th>Cardi</th>\n",
       "      <th>% Cardi</th>\n",
       "      <th>Clasificacion</th>\n",
       "    </tr>\n",
       "  </thead>\n",
       "  <tbody>\n",
       "    <tr>\n",
       "      <th>Sexo</th>\n",
       "      <td>2</td>\n",
       "      <td>0.016267</td>\n",
       "      <td>Binaria</td>\n",
       "    </tr>\n",
       "    <tr>\n",
       "      <th>Edad</th>\n",
       "      <td>71</td>\n",
       "      <td>0.577471</td>\n",
       "      <td>Numerica Discreta</td>\n",
       "    </tr>\n",
       "    <tr>\n",
       "      <th>Nacionalidad</th>\n",
       "      <td>14</td>\n",
       "      <td>0.113867</td>\n",
       "      <td>Categorica</td>\n",
       "    </tr>\n",
       "    <tr>\n",
       "      <th>Noches</th>\n",
       "      <td>12</td>\n",
       "      <td>0.097601</td>\n",
       "      <td>Categorica</td>\n",
       "    </tr>\n",
       "    <tr>\n",
       "      <th>Tipo_alojamiento</th>\n",
       "      <td>7</td>\n",
       "      <td>0.056934</td>\n",
       "      <td>Categorica</td>\n",
       "    </tr>\n",
       "    <tr>\n",
       "      <th>Coste_vuelos</th>\n",
       "      <td>2248</td>\n",
       "      <td>18.283855</td>\n",
       "      <td>Numerica Discreta</td>\n",
       "    </tr>\n",
       "    <tr>\n",
       "      <th>Coste_alojamiento</th>\n",
       "      <td>2968</td>\n",
       "      <td>24.139894</td>\n",
       "      <td>Numerica Discreta</td>\n",
       "    </tr>\n",
       "    <tr>\n",
       "      <th>Gastos</th>\n",
       "      <td>1971</td>\n",
       "      <td>16.030907</td>\n",
       "      <td>Numerica Discreta</td>\n",
       "    </tr>\n",
       "    <tr>\n",
       "      <th>Horas_fuera_alojamiento</th>\n",
       "      <td>20</td>\n",
       "      <td>0.162668</td>\n",
       "      <td>Numerica Discreta</td>\n",
       "    </tr>\n",
       "    <tr>\n",
       "      <th>Visitas_totales_Islas</th>\n",
       "      <td>17</td>\n",
       "      <td>0.138268</td>\n",
       "      <td>Numerica Discreta</td>\n",
       "    </tr>\n",
       "    <tr>\n",
       "      <th>Visitas_total_GC</th>\n",
       "      <td>12</td>\n",
       "      <td>0.097601</td>\n",
       "      <td>Categorica</td>\n",
       "    </tr>\n",
       "    <tr>\n",
       "      <th>Calificacion</th>\n",
       "      <td>5</td>\n",
       "      <td>0.040667</td>\n",
       "      <td>Categorica</td>\n",
       "    </tr>\n",
       "    <tr>\n",
       "      <th>Repetiria</th>\n",
       "      <td>11</td>\n",
       "      <td>0.089467</td>\n",
       "      <td>Categorica</td>\n",
       "    </tr>\n",
       "    <tr>\n",
       "      <th>Nivel_educativo</th>\n",
       "      <td>4</td>\n",
       "      <td>0.032534</td>\n",
       "      <td>Categorica</td>\n",
       "    </tr>\n",
       "    <tr>\n",
       "      <th>Situacion_laboral</th>\n",
       "      <td>11</td>\n",
       "      <td>0.089467</td>\n",
       "      <td>Categorica</td>\n",
       "    </tr>\n",
       "    <tr>\n",
       "      <th>Ingresos</th>\n",
       "      <td>4</td>\n",
       "      <td>0.032534</td>\n",
       "      <td>Categorica</td>\n",
       "    </tr>\n",
       "    <tr>\n",
       "      <th>Personas_hogar</th>\n",
       "      <td>4</td>\n",
       "      <td>0.032534</td>\n",
       "      <td>Categorica</td>\n",
       "    </tr>\n",
       "    <tr>\n",
       "      <th>Cuatrimestre</th>\n",
       "      <td>4</td>\n",
       "      <td>0.032534</td>\n",
       "      <td>Categorica</td>\n",
       "    </tr>\n",
       "    <tr>\n",
       "      <th>Año</th>\n",
       "      <td>2</td>\n",
       "      <td>0.016267</td>\n",
       "      <td>Binaria</td>\n",
       "    </tr>\n",
       "    <tr>\n",
       "      <th>Modo_viaje</th>\n",
       "      <td>5</td>\n",
       "      <td>0.040667</td>\n",
       "      <td>Categorica</td>\n",
       "    </tr>\n",
       "  </tbody>\n",
       "</table>\n",
       "</div>"
      ],
      "text/plain": [
       "                         Cardi    % Cardi      Clasificacion\n",
       "Sexo                         2   0.016267            Binaria\n",
       "Edad                        71   0.577471  Numerica Discreta\n",
       "Nacionalidad                14   0.113867         Categorica\n",
       "Noches                      12   0.097601         Categorica\n",
       "Tipo_alojamiento             7   0.056934         Categorica\n",
       "Coste_vuelos              2248  18.283855  Numerica Discreta\n",
       "Coste_alojamiento         2968  24.139894  Numerica Discreta\n",
       "Gastos                    1971  16.030907  Numerica Discreta\n",
       "Horas_fuera_alojamiento     20   0.162668  Numerica Discreta\n",
       "Visitas_totales_Islas       17   0.138268  Numerica Discreta\n",
       "Visitas_total_GC            12   0.097601         Categorica\n",
       "Calificacion                 5   0.040667         Categorica\n",
       "Repetiria                   11   0.089467         Categorica\n",
       "Nivel_educativo              4   0.032534         Categorica\n",
       "Situacion_laboral           11   0.089467         Categorica\n",
       "Ingresos                     4   0.032534         Categorica\n",
       "Personas_hogar               4   0.032534         Categorica\n",
       "Cuatrimestre                 4   0.032534         Categorica\n",
       "Año                          2   0.016267            Binaria\n",
       "Modo_viaje                   5   0.040667         Categorica"
      ]
     },
     "execution_count": 82,
     "metadata": {},
     "output_type": "execute_result"
    }
   ],
   "source": [
    "# Calculemos ahora su cardinalidad\n",
    "funciones.cardi(df_perfil_turistico,15,65)"
   ]
  },
  {
   "cell_type": "markdown",
   "metadata": {},
   "source": [
    "# **2. Análisis**"
   ]
  },
  {
   "cell_type": "markdown",
   "metadata": {},
   "source": [
    "Una vez determinada la cardinalidad, podemos comprender mejor las variables y definirlas en la siguiente tabla. Esta tabla nos servirá como guía para identificar cada variable y aplicar el análisis adecuado a cada una de ellas."
   ]
  },
  {
   "cell_type": "markdown",
   "metadata": {},
   "source": [
    "|Variable|Descripción|Tipo_de_Variable|Importancia inicial|Nota|\n",
    "|-|-|-|-|-|\n",
    "|Sexo| Hombre o mujer|Binaria|1|Explica análisis demográfico|\n",
    "|Edad| Edad del encuestado|Numérica Discreta|1|Explica análisis demográfico|\n",
    "|Nacionalidad|Nacionalidad del turista|Categórica|1|Explica análisis demográfico|\n",
    "|Noches|Número de noches que pernoctó en la isla|Númerica Discreta|1|Define el comportamiento del gasto|\n",
    "|Tipo_alojamiento| Tipo de alojamiento que se hospedó|Categórica|1|Define el comportamiento del gasto|\n",
    "|Coste_vuelos|Coste en euros del billete de avión|Numérica Discreta|1|Define el comportamiento del gasto|\n",
    "|Coste_alojamiento|Coste en euros de las noches alojadas|Numérica Discreta|1|Define el comportamiento del gasto|\n",
    "|Gasto| Gasto del turista en su estancia en la isla|Numérica Discreta|1|Define el comportamiento del gasto|\n",
    "|Horas_fuera_alojamiento| Horas fuera del alojamiento|Numérica discreta|3|Comportamiento durante la estancia|\n",
    "|Visitas_totales_Islas| Número de veces que ha visitados las Islas Canarias|Numérica Discreta|2|Comportamiento durante la estancia|\n",
    "|Visitas_total_GC| Número de veces que ha estado en Gran Canaria|Numérica Discreta|2|Comportamiento durante la estancia|\n",
    "|Calificacion| Definida en 5 categorías|Categórica|2|Comportamiento durante la estancia|\n",
    "|Repetiria| Del 1-10 el valor de repetición|Categórica|2|Comportamiento durante la estancia|\n",
    "|Nivel_educativo| Nivel educativo|Categórica|1|Explica análisis demográfico|\n",
    "|Situacion_laboral| Situación laboral|Categórica|1|Explica análisis demográfico|\n",
    "|Ingresos| Ingresos por tramos, del turista|Categórica|1|Explica análisis demográfico|\n",
    "|Personas_hogar| Número de personas del hogar |Numérica Discreta|1|Explica análisis demográfico|\n",
    "|Cuatrimestre| Cuatrimestre de estudio|Categórica|1|Temporadas del estudio|\n",
    "|Año| 2019 -2022|Binaria|1|Define los datos antes y después de pandemia|\n",
    "|Modo viaje| Tipo de acompañante|Categórica|1|Define el comportamiento del gasto|"
   ]
  }
 ],
 "metadata": {
  "kernelspec": {
   "display_name": "Python 3",
   "language": "python",
   "name": "python3"
  },
  "language_info": {
   "codemirror_mode": {
    "name": "ipython",
    "version": 3
   },
   "file_extension": ".py",
   "mimetype": "text/x-python",
   "name": "python",
   "nbconvert_exporter": "python",
   "pygments_lexer": "ipython3",
   "version": "3.11.3"
  }
 },
 "nbformat": 4,
 "nbformat_minor": 4
}
