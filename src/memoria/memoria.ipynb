{
 "cells": [
  {
   "cell_type": "markdown",
   "metadata": {},
   "source": [
    "# Análisis del perfil turístico que visitó Gran Canaria 2022\n"
   ]
  },
  {
   "cell_type": "markdown",
   "metadata": {},
   "source": [
    "![Portada](https://static.hosteltur.com/app/public/uploads/img/articles/2024/05/21/L_182819_3-nuevos-usos-de-ia-generativa-en-grupos-turisticos-el-caso-de-w2m.jpg)"
   ]
  },
  {
   "cell_type": "markdown",
   "metadata": {},
   "source": [
    "***Introducción:***\n",
    "\n",
    "El objetivo de este análisis es comprender las características demográficas, comportamientos, preferencias y patrones de los turistas en periodo de postpandemia, utilizando como base la encuesta de gasto turístico realizada por el Instituto Nacional de estadísticas (ISTAC)\n",
    "\n",
    "Gran Canaria, como uno de los destinos turísticos más importantes de España, atrae a millones de turistas anualmente. Debido a la pandemia sufrida en 2020, el turismo se ha visto afectado considerablemente y con este análisis se busca identificar los cambios claves sufridos por dicho acontecimineto con la finalidad de plantearse estrategias de marketing y optimizar la experiencia del turismo ante posibles futuros factores adversos.\n",
    "\n",
    "A lo largo del análisis se emplean técnicas de exploración de datos (EDA) y herramientas de visualización desarrolladas en Python."
   ]
  },
  {
   "cell_type": "markdown",
   "metadata": {},
   "source": [
    "***Detalles del estudio***\n",
    "\n",
    " **1. Hipótesis**\n",
    "\n",
    "Ante la incertidumbre económica que sufrieron las familias por la pandemia y las restricciones sanitarias postpantemia, se plantean las siguientes preguntas.\n",
    "* ¿Se vió afectada de manera directa la duración promedio de la estancia?\n",
    "* ¿Hubo cambio de perfil de alojamientos hoteleros frente a casas particualer?\n",
    "* ¿Turismo con más presencia nacional que internacional?\n",
    "* ¿Recuperación del Turismo tras la pandemia?\n",
    "* Estacionalidad debido al atractivo climático y la preferencia de los mercados europeos por escapadas invernales.\n",
    "\n",
    " **2. Fuente de datos**\n",
    " \n",
    "El Instituto Canario de Estadística (ISTAC) proporciona información sobre turismo, incluyendo encuestas de gasto turístico, estadísticas de alojamientos y flujos de visitantes. Los datos son accesibles, descargables y tienen autirización para usarlos en este análisis. \n",
    "\n",
    "Utilizaremos las encuestas de 2019 y 2022 como base para estudiar el perfil del turista antes y después de pandemia.\n",
    "\n",
    "Si deseas tener más información sobre cómo es la estructura de la encuesta, y su metodología, consultar los siguientes links.\n",
    "- [Metodología](https://www.gobiernodecanarias.org/istac/descargas/C00028A/2018/EGT-2018-metodologia.pdf)\n",
    "\n",
    "- [Encuesta](https://www.gobiernodecanarias.org/istac/descargas/C00028A/2022/Cuestionario-Gran-Canaria-2022.PDF)\n",
    "\n",
    "***3. Finalidad***\n",
    "\n",
    "* Comprender la evolución y las características del perfil turístico en Gran Canaria durante el año 2022, para evaluar los efectos de la pandemia y las restricciones en la recuperación del sector turístico.\n",
    "\n",
    "* Examinar las características demográficas de los visitantes (edad, origen, género).\n",
    "\n",
    "* Analizar preferencias de alojamiento, duración de la estancia y actividades realizadas.\n",
    "\n",
    "* Analizar las preferencias en destino por su oferta turistica.\n",
    "\n",
    "* Examinar cómo variaron los principales mercados emisores (Reino Unido, Alemania, España, etc.) en términos de volumen y comportamiento.\n",
    "\n",
    "* Comparar el comportamiento del turismo en temporadas alta y baja para determinar si se mantuvieron los patrones habituales o si hubo alteraciones.\n",
    "\n",
    "* Ayudar a los organismos públicos y privados a adaptar sus estrategias turísticas frente a cambios en el perfil y comportamiento de los visitantes.\n"
   ]
  },
  {
   "cell_type": "markdown",
   "metadata": {},
   "source": [
    "![Analisis](https://img.freepik.com/vector-premium/servidor-web-almacenamiento-datos-nube-alojamiento-web-seguridad-tecnologica_24877-3123.jpg?ga=GA1.1.327987851.1733161100&semt=ais_hybrid)"
   ]
  },
  {
   "cell_type": "markdown",
   "metadata": {},
   "source": [
    "***Data Inderstanding***\n",
    "\n",
    "* Exploración inicial: resumen en forma de tabla que detalle las variables disponibles en este estudio, su naturaleza, el tipo de dato y su posible contribución al análisis."
   ]
  },
  {
   "cell_type": "markdown",
   "metadata": {},
   "source": [
    "|Variable|Descripción|Tipo_de_Variable|Importancia inicial|Nota|\n",
    "|-|-|-|-|-|\n",
    "|Sexo| Sexo del entrevistado: Hombre o mujer|Binaria|1|Explica análisis demográfico|\n",
    "|Edad| Edad del encuestado|Numérica Discreta|1|Explica análisis demográfico|\n",
    "|Nacionalidad|Nacionalidad del turista|Categórica|1|Explica análisis demográfico|\n",
    "|Noches|Número de noches que pernoctó en la isla|Númerica Discreta|1|Define el comportamiento del gasto|\n",
    "|Tipo_alojamiento| Tipo de alojamiento que se hospedó|Categórica|1|Define el comportamiento del gasto|\n",
    "|Coste_vuelos|Coste en euros del billete de avión|Numérica Discreta|1|Define el comportamiento del gasto|\n",
    "|Coste_alojamiento|Coste en euros de las noches alojadas|Numérica Discreta|1|Define el comportamiento del gasto|\n",
    "|Gasto| Gasto del turista en su estancia en la isla|Numérica Discreta|1|Define el comportamiento del gasto|\n",
    "|Visitas_totales_Islas| Número de veces que ha visitados las Islas Canarias|Numérica Discreta|2|Nos aporta información sobre el comportamiento del turista|\n",
    "|Visitas_total_GC| Número de veces que ha estado en Gran Canaria|Numérica Discreta|2|Nos aporta información sobre el comportamiento del turista|\n",
    "|Calificacion| Calificación del 1-10 de su viaje|Categórica|2|Nos aporta información sobre el comportamiento del turista|\n",
    "|Repetiria| Del 1-10 el valor de repetición|Categórica|2|Nos aporta información sobre el comportamiento del turista|\n",
    "|Nivel_educativo| Nivel educativo|Categórica|1|Explica análisis demográfico|\n",
    "|Situacion_laboral| Situación laboral|Categórica|1|Explica análisis demográfico|\n",
    "|Ingresos| Ingresos por tramos, del turista|Categórica|1|Explica análisis demográfico|\n",
    "|Personas_hogar| Número de personas del hogar |Numérica Discreta|1|Explica análisis demográfico|\n",
    "|Cuatrimestre| Cuatrimestre de estudio|Categórica|1|Temporadas del estudio|\n",
    "|Horas_fuera_alojamiento| Horas fuera del alojamiento|Numérica discreta|3|Comportamiento durante la estancia|\n",
    "|Año| 2019 -2022|Binaria|1|Define los datos antes y después de pandemia|\n",
    "|Modo viaje| Tipo de acompañante|Categórica|1|Define el comportamiento del gasto|"
   ]
  },
  {
   "cell_type": "markdown",
   "metadata": {},
   "source": [
    "# Principales resultados\n",
    "**Análisis univariante** \n",
    "- Variables categóricas \n",
    "\n",
    "***Antes de pandemia:***\n",
    "La moda revela que el perfil predominante del turista es el de una mujer procedente de Alemania. Este turista se aloja en hoteles de cuatro estrellas, disfruta de su estancia, alcanzando sus expectativas, y, sin duda recomendaría el destino. Su perfil suele incluir estudios superiores y un nivel de ingresos de entre 25.000 y 50.000 euros. Generalmente, viaja en pareja, habiendo visitado las islas previamente.\n",
    "\n",
    "***Post pandemia:***\n",
    "El perfil se mantiene igual, solo cambia que la procedencia sea más común desde España. \n",
    "\n",
    "Este análisis preliminar concluye que se ha producido un cambio en el comportamiento respecto a la nacionalidad de origen del turista, mientras que el resto de las características del perfil se mantienen sin variaciones. Este fenómeno puede explicarse por las restricciones aplicadas en los distintos países, que, junto con la proximidad geográfica, hicieron que para el turista español fuera más sencillo viajar a la isla en comparación con turistas de otras nacionalidades.\n",
    "\n",
    "Resultados post pandemia en términos relativos:\n",
    ">El 55% de los turistas son mujeres, el 19% proviene de España, el 17% de Alemania y el 16% del Reino Unido. En cuanto al alojamiento, el 37% se hospeda en hoteles de 4 estrellas y el 27% en apartamentos o villas.\n",
    "\n",
    ">Satisfacción y repetición: El 37% de los turistas otorgan una calificación de 10 a su satisfacción con la isla, mientras que el 57% afirmaron que repetirían el destino. Además, el 59% considera que su experiencia estuvo a la altura de sus expectativas, lo que lleva al mismo porcentaje (59%) a recomendar el destino.\n",
    "\n",
    ">Nivel educativo y situación laboral: La distribución educativa muestra que el 70% tiene estudios superiores y el 24% estudios secundarios. En cuanto a su situación laboral, el 59% son asalariados y el 15% están jubilados. Los ingresos anuales de los turistas se distribuyen principalmente entre 25k y 49k (33%), mientras que el 28% gana más de 75k anuales.\n",
    "\n",
    ">Modo de viaje: El 49% de los turistas viaja en pareja, y de ellos, el 24% lo hace con sus hijos. El canal principal de acceso a Gran Canaria es a través de visitas anteriores, seguido por las redes sociales, que influyen en un 15% de los casos."
   ]
  },
  {
   "cell_type": "markdown",
   "metadata": {},
   "source": [
    "En resumen:\n",
    "\n",
    "|Variables|Categoría|2019|2022|\n",
    "|-|-|-|-|\n",
    "|Sexo| Mujer| 53% |54% |\n",
    "|Nacionalidad| Alemania - España |18% - 17%|20% -17% |\n",
    "|Tipo de alojamiento| Hotel 4*| 34%| 37%|\n",
    "|Calificación| 10| 62%| 59%|\n",
    "|Repetiría| 10| 57%| 57%|\n",
    "|Nivel educativo| Estudios superiores| 67%| 71%|\n",
    "|Situación laboral| Asalariados| 55%| 59%|\n",
    "|Ingresos| 25.000-49.999| 36%| 33%|\n",
    "|Modo_viaje| Pareja| 50%| 49%|"
   ]
  },
  {
   "cell_type": "markdown",
   "metadata": {},
   "source": [
    "- Variables numéricas:\n",
    "\n",
    "***Antes de pandemia:***\n",
    "\n",
    "Edad y duración de la estancia: La edad media del turista es de 48 años, y su estancia promedio en la isla es de 8 noches.\n",
    "\n",
    "Costes y visitas: El coste medio de los vuelos es de 366€, mientras que el gasto en alojamiento asciende a 286€ y su gasto medio en la durante su estancia es de 357€. En promedio, los turistas han visitado las Islas Canarias unas 7 veces y, en particular, Gran Canaria en 3 ocasiones.\n",
    "\n",
    "Composición del hogar y tiempo fuera del alojamiento: El hogar promedio de estos turistas está compuesto por 3 persona, y pasan un promedio de 7 horas al día fuera del alojamiento.\n",
    "\n",
    "***Después de pandemia:***\n",
    "Los datos muestran que el perfil no ha variado practicamente nada solo en los costes que en 2022 son menores; el coste medio de los vuelos es de 352€, el gasto en alojamiento de 236€ y su gasto medio durante las vacaciones es de 338€.\n",
    "\n",
    "Por otro lado,de media, los turistas han visitado las las Islas Canarias (6) y Gran Canaria en 3 ocasiones. \n",
    "\n",
    "A diferencia del 2019, si hay una disminucion en las horas medias que los turistas pasan fuera del alojaminendo siendo 6h de media en el 2022, puede tener relación con las restricciones sanitarias y la inseguridad de la exposición en zonas de aglomeraciones."
   ]
  },
  {
   "cell_type": "markdown",
   "metadata": {},
   "source": [
    "*Análisis bivariantes* "
   ]
  },
  {
   "cell_type": "markdown",
   "metadata": {},
   "source": [
    "Horas fuera del alojamiento vs sexo\n",
    "Visitas totales vs sexo\n",
    "Suecia vs edad \n",
    "Noches vs nacionalidad\n",
    "Costeas alojamiento - Belgica\n"
   ]
  }
 ],
 "metadata": {
  "kernelspec": {
   "display_name": "Python 3",
   "language": "python",
   "name": "python3"
  },
  "language_info": {
   "codemirror_mode": {
    "name": "ipython",
    "version": 3
   },
   "file_extension": ".py",
   "mimetype": "text/x-python",
   "name": "python",
   "nbconvert_exporter": "python",
   "pygments_lexer": "ipython3",
   "version": "3.11.3"
  }
 },
 "nbformat": 4,
 "nbformat_minor": 2
}
