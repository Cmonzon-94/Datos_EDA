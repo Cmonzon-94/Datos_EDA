{
 "cells": [
  {
   "cell_type": "markdown",
   "metadata": {},
   "source": [
    "# Análisis del perfil turístico que visitó Gran Canaria 2022\n"
   ]
  },
  {
   "cell_type": "markdown",
   "metadata": {},
   "source": [
    "![Portada](https://static.hosteltur.com/app/public/uploads/img/articles/2024/05/21/L_182819_3-nuevos-usos-de-ia-generativa-en-grupos-turisticos-el-caso-de-w2m.jpg)"
   ]
  },
  {
   "cell_type": "markdown",
   "metadata": {},
   "source": [
    "***Introducción:***\n",
    "\n",
    "El objetivo de este análisis es comprender las características demográficas, comportamientos, preferencias y patrones de los turistas en periodo de postpandemia, utilizando como base la encuesta de gasto turístico realizada por el Instituto Nacional de estadísticas (ISTAC)\n",
    "\n",
    "Gran Canaria, como uno de los destinos turísticos más importantes de España, atrae a millones de turistas anualmente. Debido a la pandemia sufrida en 2020, el turismo se ha visto afectado considerablemente y con este análisis se busca identificar los cambios claves sufridos por dicho acontecimineto con la finalidad de plantearse estrategias de marketing y optimizar la experiencia del turismo ante posibles futuros factores adversos.\n",
    "\n",
    "A lo largo del análisis se emplean técnicas de exploración de datos (EDA) y herramientas de visualización desarrolladas en Python."
   ]
  },
  {
   "cell_type": "markdown",
   "metadata": {},
   "source": [
    "***Detalles del estudio***\n",
    "\n",
    " **1. Hipótesis**\n",
    "\n",
    "Ante la incertidumbre económica que sufrieron las familias por la pandemia y las restricciones sanitarias postpantemia, se plantean las siguientes preguntas.\n",
    "* ¿Se vió afectada de manera directa la duración promedio de la estancia?\n",
    "* ¿Hubo cambio de perfil de alojamientos hoteleros frente a casas particualer?\n",
    "* ¿Turismo con más presencia nacional que internacional?\n",
    "* ¿Recuperación del Turismo tras la pandemia?\n",
    "* Estacionalidad debido al atractivo climático y la preferencia de los mercados europeos por escapadas invernales.\n",
    "\n",
    " **2. Fuente de datos**\n",
    " \n",
    "El Instituto Canario de Estadística (ISTAC) proporciona información sobre turismo, incluyendo encuestas de gasto turístico, estadísticas de alojamientos y flujos de visitantes. Los datos son accesibles, descargables y tienen autirización para usarlos en este análisis. \n",
    "\n",
    "Utilizaremos las encuestas de 2019 y 2022 como base para estudiar el perfil del turista antes y después de pandemia.\n",
    "\n",
    "Si deseas tener más información sobre cómo es la estructura de la encuesta, y su metodología, consultar los siguientes links.\n",
    "- [Metodología](https://www.gobiernodecanarias.org/istac/descargas/C00028A/2018/EGT-2018-metodologia.pdf)\n",
    "\n",
    "- [Encuesta](https://www.gobiernodecanarias.org/istac/descargas/C00028A/2022/Cuestionario-Gran-Canaria-2022.PDF)\n",
    "\n",
    "***3. Finalidad***\n",
    "\n",
    "* Comprender la evolución y las características del perfil turístico en Gran Canaria durante el año 2022, para evaluar los efectos de la pandemia y las restricciones en la recuperación del sector turístico.\n",
    "\n",
    "* Examinar las características demográficas de los visitantes (edad, origen, género).\n",
    "\n",
    "* Analizar preferencias de alojamiento, duración de la estancia y actividades realizadas.\n",
    "\n",
    "* Analizar las preferencias en destino por su oferta turistica.\n",
    "\n",
    "* Examinar cómo variaron los principales mercados emisores (Reino Unido, Alemania, España, etc.) en términos de volumen y comportamiento.\n",
    "\n",
    "* Comparar el comportamiento del turismo en temporadas alta y baja para determinar si se mantuvieron los patrones habituales o si hubo alteraciones.\n",
    "\n",
    "* Ayudar a los organismos públicos y privados a adaptar sus estrategias turísticas frente a cambios en el perfil y comportamiento de los visitantes.\n"
   ]
  },
  {
   "cell_type": "markdown",
   "metadata": {},
   "source": [
    "![Analisis](https://www.salleurl.edu/sites/default/files/styles/capsalera_node/public/content/nodes/View%20Page/image/23125/43942/data-science-big-data-analytics-la-salle-url.jpg)"
   ]
  },
  {
   "cell_type": "markdown",
   "metadata": {},
   "source": [
    "***Procedimiento***\n",
    "> 1. Preparación de los datos: \n",
    "* Carga de la base de datos y visualización inicial.\n",
    "* Limpieza de los datos\n",
    "* Detectar valores nulos y ourliers\n",
    "* Exploración inicial: resumen en forma de tabla que detalle las variables disponibles en este estudio, su naturaleza, el tipo de dato y su posible contribución al análisis."
   ]
  },
  {
   "cell_type": "markdown",
   "metadata": {},
   "source": [
    "|Variable|Descripción|Tipo_de_Variable|Importancia inicial|Nota|\n",
    "|-|-|-|-|-|\n",
    "|Sexo| Sexo del entrevistado: 1 si es Hombre o 6 si es mujer|Binaria|1|Explica análisis demográfico|\n",
    "|Edad| Edad del encuestado|Numérica Discreta|1|Explica análisis demográfico|\n",
    "|Nacionalidad|Nacionalidad del turista|Categórica|1|Explica análisis demográfico|\n",
    "|Noches|Número de noches que pernoctó en la isla|Númerica Discreta|1|Define el comportamiento del gasto|\n",
    "|Tipo_alojamiento| Tipo de alojamiento que se hospedó|Categórica|1|Define el comportamiento del gasto|\n",
    "|Coste_vuelos|Coste en euros del billete de avión|Numérica Discreta|1|Define el comportamiento del gasto|\n",
    "|Coste_alojamiento|Coste en euros de las noches alojadas|Numérica Discreta|1|Define el comportamiento del gasto|\n",
    "|Gasto| Gasto del turista en su estancia en la isla|Numérica Discreta|1|Define el comportamiento del gasto|\n",
    "|Visitas_totales_Islas| Número de veces que ha visitados las Islas Canarias|Numérica Discreta|2|Nos aporta información sobre el comportamiento del turista|\n",
    "|Visitas_total_GC| Número de veces que ha estado en Gran Canaria|Numérica Discreta|2|Nos aporta información sobre el comportamiento del turista|\n",
    "|Calificacion| Calificación del 1-10 de su viaje|Categórica|2|Nos aporta información sobre el comportamiento del turista|\n",
    "|Repetiria| Del 1-10 el valor de repetición|Categórica|2|Nos aporta información sobre el comportamiento del turista|\n",
    "|Nivel_educativo| Nivel educativo|Categórica|1|Explica análisis demográfico|\n",
    "|Situacion_laboral| Situación laboral|Categórica|1|Explica análisis demográfico|\n",
    "|Ingresos| Ingresos por tramos, del turista|Categórica|1|Explica análisis demográfico|\n",
    "|Personas_hogar| Número de personas del hogar |Numérica Discreta|1|Explica análisis demográfico|\n",
    "|Cuatrimestre| Cuatrimestre de estudio|Categórica|1|Temporadas del estudio|\n",
    "|Horas_fuera_alojamiento| Horas fuera del alojamiento|Numérica discreta|3|Comportamiento durante la estancia|\n",
    "|Año| 2019 -2022|Binaria|1|Define los datos antes y después de pandemia|\n",
    "|Modo viaje| Tipo de acompañante|Categórica|1|Define el comportamiento del gasto|"
   ]
  },
  {
   "cell_type": "markdown",
   "metadata": {},
   "source": [
    ">2. Analisis de las variables\n",
    "\n",
    "2.1 Analisis Univariante - Variables categóricas:\n",
    "\n",
    "***Antes de pandemia:***\n",
    "La moda revela que el perfil predominante del turista es el de una mujer procedente de Alemania. Este turista se aloja en hoteles de cuatro estrellas, disfruta de su estancia, alcanzando sus expectativas, y, sin duda recomendaría el destino. Su perfil suele incluir estudios superiores y un nivel de ingresos de entre 25.000 y 50.000 euros. Generalmente, viaja en pareja, habiendo visitado las islas previamente.\n",
    "\n",
    "***Post pandemia:***\n",
    "El perfil se mantiene igual, solo cambia que la procedencia sea más común desde España. \n",
    "\n",
    "Este análisis preliminar concluye que se ha producido un cambio en el comportamiento respecto a la nacionalidad de origen del turista, mientras que el resto de las características del perfil se mantienen sin variaciones. Este fenómeno puede explicarse por las restricciones aplicadas en los distintos países, que, junto con la proximidad geográfica, hicieron que para el turista español fuera más sencillo viajar a la isla en comparación con turistas de otras nacionalidades.\n",
    "\n",
    "Resultados post pandemia en términos relativos:\n",
    "|Variables|Categoría|2019|2022|\n",
    "|-|-|-|-|\n",
    "|Sexo| Mujer| 53% |54% |\n",
    "|Nacionalidad| Alemania - España |18% - 17%|20% -17% |\n",
    "|Tipo de alojamiento| Hotel 4*| 34%| 38%|\n",
    "|Calificación| 10| 62%| 59%|\n",
    "|Repetiría| 10| 51%| 56%|\n",
    "|Nivel educativo| Estudios superiores| 67%| 71%|\n",
    "|Situación laboral| Asalariados| 56%| 60%|\n",
    "|Ingresos| 25.000-49.999| 36%| 34%|\n",
    "|Modo_viaje| Pareja| 50%| 48%|"
   ]
  },
  {
   "cell_type": "markdown",
   "metadata": {},
   "source": [
    "2.2 Analisis Univariante - Variables Numéricas:\n",
    "\n",
    "Resultados \n",
    "|Variables (términos medio)|2019|2022|\n",
    "|-|-|-|\n",
    "|Edad| 48 | 48 |\n",
    "|Estancia| 8 | 8|\n",
    "|Coste vuelos| 366€| 352€|\n",
    "|Coste alojamientos| 287€| 235€|\n",
    "|Otros costes| 360€| 342€|\n",
    "|Visitas Islas Canarias|5|5 |\n",
    "|Visitas Gran Canaria|3|3 |\n",
    "|Hogar| 3 | 3|\n",
    "|Horas fuera del alojamiento| 8 | 6|\n",
    "\n",
    "A diferencia del 2019, si hay una disminucion en las horas medias que los turistas pasan fuera del alojaminendo siendo 6h de media en el 2022, puede tener relación con las restricciones sanitarias y la inseguridad de la exposición en zonas de aglomeraciones.\n",
    "\n",
    "Estudiando su coeficiente de variabilidad tenemos que:\n",
    "\n",
    "Baja variabilidad: Variables como la edad, las noches de estancia y las personas por hogar presentan una distribución más homogénea entre los turistas.\n",
    "Alta variabilidad: Los costes (vuelos, alojamiento) y las visitas previas (a las Islas o a Gran Canaria) muestran una mayor dispersión, indicando diversidad en las experiencias y características económicas de los visitantes.\n",
    "Gastos totales: Aunque la media es considerable (970.60), la moderada variabilidad refleja diferencias en los patrones de gasto.."
   ]
  },
  {
   "cell_type": "markdown",
   "metadata": {},
   "source": [
    "*2.3 Análisis bivariantes* "
   ]
  },
  {
   "cell_type": "markdown",
   "metadata": {},
   "source": [
    "Horas fuera del alojamiento vs sexo\n",
    "Visitas totales vs sexo\n",
    "Suecia vs edad \n",
    "Noches vs nacionalidad\n",
    "Costeas alojamiento - Belgica\n"
   ]
  }
 ],
 "metadata": {
  "kernelspec": {
   "display_name": "Python 3",
   "language": "python",
   "name": "python3"
  },
  "language_info": {
   "codemirror_mode": {
    "name": "ipython",
    "version": 3
   },
   "file_extension": ".py",
   "mimetype": "text/x-python",
   "name": "python",
   "nbconvert_exporter": "python",
   "pygments_lexer": "ipython3",
   "version": "3.11.3"
  }
 },
 "nbformat": 4,
 "nbformat_minor": 2
}
