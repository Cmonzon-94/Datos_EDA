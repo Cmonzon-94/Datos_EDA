{
 "cells": [
  {
   "cell_type": "markdown",
   "metadata": {},
   "source": [
    "# Análisis del perffil turístico que visitó Gran Canaria 2022\n"
   ]
  },
  {
   "cell_type": "markdown",
   "metadata": {},
   "source": [
    "![Portada](https://static.hosteltur.com/app/public/uploads/img/articles/2024/05/21/L_182819_3-nuevos-usos-de-ia-generativa-en-grupos-turisticos-el-caso-de-w2m.jpg)"
   ]
  },
  {
   "cell_type": "markdown",
   "metadata": {},
   "source": [
    "***Introducción:***\n",
    "\n",
    "El objetivo de este análisis es comprender las características demográficas, comportamientos, preferencias y patrones de los turistas en periodo de postpandemia, utilizando como base la encuesta de gasto turístico realizada por el Instituto Nacional de estadísticas (ISTAC)\n",
    "\n",
    "Gran Canaria, como uno de los destinos turísticos más importantes de España, atrae a millones de turistas anualmente. Debido a la pandemia sufrida en 2020, el turismo se ha visto afectado considerablemente y con este análisis se busca identificar los cambios claves sufridos por dicho acontecimineto con la finalidad de plantearse estrategias de marketing y optimizar la experiencia del turismo ante posibles futuros factores adversos.\n",
    "\n",
    "A lo largo del análisis se emplean técnicas de exploración de datos (EDA) y herramientas de visualización desarrolladas en Python que ayudarán al "
   ]
  },
  {
   "cell_type": "markdown",
   "metadata": {},
   "source": [
    "***Detalles del estudio***\n",
    "\n",
    " **1. Hipótesis**\n",
    "Ante la incertidumbre económica que sufrieron las familias por la pandemia y las restricciones sanitarias postpantemia, se plantean las siguientes preguntas.\n",
    "* ¿Se vió afectada de manera directa la duración promedio de la estancia?\n",
    "* ¿Hubo cambio de perfil de alojamientos hoteleros frente a casas particualer?\n",
    "* ¿Turismo con más presencia nacional que internacional?\n",
    "* ¿Recuperación del Turismo tras la pandemia?\n",
    "* Estacionalidad debido al atractivo climático y la preferencia de los mercados europeos por escapadas invernales.\n",
    "\n",
    " **2. Fuente de datos**\n",
    " \n",
    "ISTAC (Instituto Canario de Estadística): Proporciona información sobre turismo, incluyendo encuestas de gasto turístico, estadísticas de alojamientos y flujos de visitantes.Los datos son accesibles, descargables y tienen autirización para usarlos en este análisis.\n",
    "Si deseas tener más información sobre cómo es la estructura de la encuesta, y su metodología, consultar los siguientes links.\n",
    "- [Metodología](https://www.gobiernodecanarias.org/istac/descargas/C00028A/2018/EGT-2018-metodologia.pdf)\n",
    "\n",
    "- [Encuesta](https://www.gobiernodecanarias.org/istac/descargas/C00028A/2022/Cuestionario-Gran-Canaria-2022.PDF)\n",
    "\n",
    "***3. Finalidad***\n",
    "\n",
    "* Comprender la evolución y las características del perfil turístico en Gran Canaria durante el año 2022, desglosado por cuatrimestre, para evaluar los efectos de la pandemia y las restricciones en la recuperación del sector turístico.\n",
    "\n",
    "* Examinar las características demográficas de los visitantes (edad, origen, género).\n",
    "\n",
    "* Analizar preferencias de alojamiento, duración de la estancia y actividades realizadas.\n",
    "\n",
    "* Analizar las preferencias en destino por su oferta turistica.\n",
    "\n",
    "* Examinar cómo variaron los principales mercados emisores (Reino Unido, Alemania, España, etc.) en términos de volumen y comportamiento.\n",
    "\n",
    "* Comparar el comportamiento del turismo en temporadas alta y baja para determinar si se mantuvieron los patrones habituales o si hubo alteraciones.\n",
    "\n",
    "* Ayudar a los organismos públicos y privados a adaptar sus estrategias turísticas frente a cambios en el perfil y comportamiento de los visitantes.\n"
   ]
  },
  {
   "cell_type": "markdown",
   "metadata": {},
   "source": [
    "![Analisis](https://img.freepik.com/vector-premium/servidor-web-almacenamiento-datos-nube-alojamiento-web-seguridad-tecnologica_24877-3123.jpg?ga=GA1.1.327987851.1733161100&semt=ais_hybrid)"
   ]
  },
  {
   "cell_type": "markdown",
   "metadata": {},
   "source": [
    "***Data Inderstanding***\n",
    "\n",
    "* Exploración inicial: resumen en forma de tabla que detalle las variables disponibles en este estudio, su naturaleza, el tipo de dato y su posible contribución al análisis."
   ]
  },
  {
   "cell_type": "markdown",
   "metadata": {},
   "source": [
    "|Variable|Descripción|Tipo_de_Variable|Importancia inicial|Nota|\n",
    "|-|-|-|-|-|\n",
    "|Sexo| Sexo del entrevistado: Hombre o mujer|Binaria|1|Explica análisis demográfico|\n",
    "|Edad| Edad del encuestado|Numérica Discreta|1|Explica análisis demográfico|\n",
    "|Nacionalidad|Nacionalidad del turista|Categórica|1|Explica análisis demográfico|\n",
    "|Noches|Número de noches que pernoctó en la isla|Númerica Discreta|1||\n",
    "|Tipo_alojamiento| Tipo de alojamiento que se hospedó|Categórica|1||\n",
    "|Coste_vuelos|Coste en euros del billete de avión|Numérica Discreta|1||\n",
    "|Coste_alojamiento|Coste en euros de las noches alojadas|Numérica Discreta|1||\n",
    "|Visitas_totales_Islas| Número de veces que ha visitados las Islas Canarias|Numérica Discreta|2||\n",
    "|Visitas_total_GC| Número de veces que ha estado en Gran Canaria|Numérica Discreta|2||\n",
    "|Satisfaccióm| Satisfacción del 1-10 de su estancia en GC|Categórica|1||\n",
    "|Calificacion| Calificación del 1-10 de su viaje|Categórica|1||\n",
    "|Repetiria| Del 1-10 el valor de repetición|Categórica|1||\n",
    "|Recomendaria| Del 1-10 el valor de recomendación|Categórica|1||\n",
    "|Nivel_educativo| Nivel educativo|Categórica|1||\n",
    "|Situacion_laboral| Situación labotal|Categórica|1||\n",
    "|Ingresos| Ingresos por tramos, del turista|Categórica|1||\n",
    "|Personas_hogar| Número de personas del hogar |Numérica Discreta|1||\n",
    "|Cuatrimestre| Cuatrimestre de estudio|Categórica|1|Temporadas del estudio|\n",
    "|Horas_fuera_alojamiento| Horas fuera del alojamiento|Numérica discreta|3||\n",
    "|Modo viaje| Tipo de acompañante|Categórica|1||\n",
    "|Canal| Tipo de canal de destino|Categórica|1||\n",
    "|Actividad| Actividades realizadas en el destino|Categórica|1||"
   ]
  }
 ],
 "metadata": {
  "language_info": {
   "name": "python"
  }
 },
 "nbformat": 4,
 "nbformat_minor": 2
}
